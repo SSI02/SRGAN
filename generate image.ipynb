{
 "cells": [
  {
   "cell_type": "code",
   "execution_count": null,
   "metadata": {},
   "outputs": [],
   "source": [
    "\n",
    "import numpy as np\n",
    "from tensorflow.keras.models import load_model\n",
    "from tensorflow.keras.preprocessing.image import load_img, img_to_array, array_to_img\n",
    "\n",
    "def upscale_image(generator, lr_image_path, output_path, img_size):\n",
    "    # Load the low-resolution image\n",
    "    lr_img = load_img(lr_image_path, target_size=img_size)\n",
    "    lr_img = img_to_array(lr_img) / 255.0  # Normalize to [0, 1]\n",
    "\n",
    "    # Expand dimensions to match the input shape of the generator (batch_size, height, width, channels)\n",
    "    lr_img = np.expand_dims(lr_img, axis=0)\n",
    "\n",
    "    # Generate high-resolution image\n",
    "    hr_img = generator.predict(lr_img)\n",
    "\n",
    "    # Post-process the output\n",
    "    hr_img = np.squeeze(hr_img, axis=0)  # Remove batch dimension\n",
    "    hr_img = np.clip(hr_img, 0, 1)  # Ensure pixel values are in [0, 1]\n",
    "    hr_img = (hr_img * 255.0).astype(np.uint8)  # Denormalize to [0, 255]\n",
    "\n",
    "    # Convert array to image and save or display\n",
    "    hr_img = array_to_img(hr_img)\n",
    "    hr_img.save(output_path)\n",
    "    return hr_img\n",
    "for i in range(1,number_of_generators):\n",
    "  # Load the pre-trained generator model\n",
    "  generator = load_model(f'srgan_generator_epoch_{i}.keras')\n",
    "\n",
    "  # Specify the low-resolution image and desired output path\n",
    "  lr_image_path = 'image_path'\n",
    "  output_path = f'high_res_image_{i}.png'\n",
    "\n",
    "  # Define the size of the low-resolution input (e.g., 128x128)\n",
    "  img_size = (128, 128)\n",
    "\n",
    "  # Upscale the image\n",
    "  high_res_image = upscale_image(generator, lr_image_path, output_path, img_size)\n",
    "\n",
    "  # Display the high-resolution image\n",
    "  high_res_image.show()\n"
   ]
  }
 ],
 "metadata": {
  "language_info": {
   "name": "python"
  }
 },
 "nbformat": 4,
 "nbformat_minor": 2
}
